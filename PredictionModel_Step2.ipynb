{
 "cells": [
  {
   "cell_type": "markdown",
   "metadata": {},
   "source": [
    "## Import packages"
   ]
  },
  {
   "cell_type": "code",
   "execution_count": 2,
   "metadata": {},
   "outputs": [],
   "source": [
    "import numpy as np\n",
    "import pandas as pd \n",
    "import xgboost as xgb\n",
    "from xgboost import XGBClassifier\n",
    "from sklearn.svm import SVC\n",
    "from sklearn.ensemble import GradientBoostingClassifier\n",
    "from sklearn.linear_model import LogisticRegression\n",
    "from sklearn.metrics import f1_score\n",
    "from sklearn.model_selection import GridSearchCV, StratifiedKFold, cross_val_score\n",
    "import scipy.stats as stats"
   ]
  },
  {
   "cell_type": "markdown",
   "metadata": {},
   "source": [
    "## Import data"
   ]
  },
  {
   "cell_type": "code",
   "execution_count": 4,
   "metadata": {},
   "outputs": [
    {
     "data": {
      "text/html": [
       "<div>\n",
       "<style scoped>\n",
       "    .dataframe tbody tr th:only-of-type {\n",
       "        vertical-align: middle;\n",
       "    }\n",
       "\n",
       "    .dataframe tbody tr th {\n",
       "        vertical-align: top;\n",
       "    }\n",
       "\n",
       "    .dataframe thead th {\n",
       "        text-align: right;\n",
       "    }\n",
       "</style>\n",
       "<table border=\"1\" class=\"dataframe\">\n",
       "  <thead>\n",
       "    <tr style=\"text-align: right;\">\n",
       "      <th></th>\n",
       "      <th>individualnumber</th>\n",
       "      <th>discount_type1_count</th>\n",
       "      <th>discount_type1_mean</th>\n",
       "      <th>discount_type2_count</th>\n",
       "      <th>discount_type2_mean</th>\n",
       "      <th>discount_type3_count</th>\n",
       "      <th>discount_type3_mean</th>\n",
       "      <th>Hygiene_Quantity</th>\n",
       "      <th>Hygiene_Amount</th>\n",
       "      <th>Other_Quantity</th>\n",
       "      <th>...</th>\n",
       "      <th>PersonalCare_Amount</th>\n",
       "      <th>Beverage_Quantity</th>\n",
       "      <th>Beverage_Amount</th>\n",
       "      <th>isvirtual_ratio</th>\n",
       "      <th>gender</th>\n",
       "      <th>dateofbirth</th>\n",
       "      <th>category_number</th>\n",
       "      <th>deserved_amount</th>\n",
       "      <th>reward_amount</th>\n",
       "      <th>response</th>\n",
       "    </tr>\n",
       "  </thead>\n",
       "  <tbody>\n",
       "    <tr>\n",
       "      <th>0</th>\n",
       "      <td>100001590</td>\n",
       "      <td>0</td>\n",
       "      <td>0.000000</td>\n",
       "      <td>1</td>\n",
       "      <td>2.340000</td>\n",
       "      <td>0</td>\n",
       "      <td>0.000000</td>\n",
       "      <td>0.0</td>\n",
       "      <td>0.0</td>\n",
       "      <td>0.0</td>\n",
       "      <td>...</td>\n",
       "      <td>0.00</td>\n",
       "      <td>3.0</td>\n",
       "      <td>16.05</td>\n",
       "      <td>0.0000</td>\n",
       "      <td>0</td>\n",
       "      <td>2000</td>\n",
       "      <td>9000</td>\n",
       "      <td>17.0</td>\n",
       "      <td>1.0</td>\n",
       "      <td>0</td>\n",
       "    </tr>\n",
       "    <tr>\n",
       "      <th>1</th>\n",
       "      <td>100002863</td>\n",
       "      <td>40</td>\n",
       "      <td>1.343845</td>\n",
       "      <td>36</td>\n",
       "      <td>4.548333</td>\n",
       "      <td>20</td>\n",
       "      <td>11.040500</td>\n",
       "      <td>12.0</td>\n",
       "      <td>197.9</td>\n",
       "      <td>28.0</td>\n",
       "      <td>...</td>\n",
       "      <td>313.04</td>\n",
       "      <td>60.0</td>\n",
       "      <td>216.25</td>\n",
       "      <td>0.5238</td>\n",
       "      <td>1</td>\n",
       "      <td>1990</td>\n",
       "      <td>9030</td>\n",
       "      <td>18.0</td>\n",
       "      <td>1.0</td>\n",
       "      <td>0</td>\n",
       "    </tr>\n",
       "    <tr>\n",
       "      <th>2</th>\n",
       "      <td>100020001</td>\n",
       "      <td>24</td>\n",
       "      <td>1.659298</td>\n",
       "      <td>4</td>\n",
       "      <td>16.190000</td>\n",
       "      <td>15</td>\n",
       "      <td>6.892667</td>\n",
       "      <td>19.0</td>\n",
       "      <td>515.3</td>\n",
       "      <td>9.0</td>\n",
       "      <td>...</td>\n",
       "      <td>0.00</td>\n",
       "      <td>15.0</td>\n",
       "      <td>75.50</td>\n",
       "      <td>0.0000</td>\n",
       "      <td>1</td>\n",
       "      <td>1983</td>\n",
       "      <td>9040</td>\n",
       "      <td>23.0</td>\n",
       "      <td>2.0</td>\n",
       "      <td>0</td>\n",
       "    </tr>\n",
       "    <tr>\n",
       "      <th>3</th>\n",
       "      <td>100025528</td>\n",
       "      <td>0</td>\n",
       "      <td>0.000000</td>\n",
       "      <td>1</td>\n",
       "      <td>4.000000</td>\n",
       "      <td>0</td>\n",
       "      <td>0.000000</td>\n",
       "      <td>1.0</td>\n",
       "      <td>19.9</td>\n",
       "      <td>0.0</td>\n",
       "      <td>...</td>\n",
       "      <td>9.60</td>\n",
       "      <td>6.0</td>\n",
       "      <td>28.05</td>\n",
       "      <td>0.0000</td>\n",
       "      <td>0</td>\n",
       "      <td>1976</td>\n",
       "      <td>9004</td>\n",
       "      <td>66.0</td>\n",
       "      <td>6.0</td>\n",
       "      <td>0</td>\n",
       "    </tr>\n",
       "    <tr>\n",
       "      <th>4</th>\n",
       "      <td>100027007</td>\n",
       "      <td>0</td>\n",
       "      <td>0.000000</td>\n",
       "      <td>5</td>\n",
       "      <td>9.078000</td>\n",
       "      <td>12</td>\n",
       "      <td>14.855833</td>\n",
       "      <td>4.0</td>\n",
       "      <td>59.9</td>\n",
       "      <td>5.0</td>\n",
       "      <td>...</td>\n",
       "      <td>349.41</td>\n",
       "      <td>7.0</td>\n",
       "      <td>54.00</td>\n",
       "      <td>0.0000</td>\n",
       "      <td>1</td>\n",
       "      <td>1981</td>\n",
       "      <td>9046</td>\n",
       "      <td>79.0</td>\n",
       "      <td>7.0</td>\n",
       "      <td>0</td>\n",
       "    </tr>\n",
       "  </tbody>\n",
       "</table>\n",
       "<p>5 rows × 24 columns</p>\n",
       "</div>"
      ],
      "text/plain": [
       "   individualnumber  discount_type1_count  discount_type1_mean  \\\n",
       "0         100001590                     0             0.000000   \n",
       "1         100002863                    40             1.343845   \n",
       "2         100020001                    24             1.659298   \n",
       "3         100025528                     0             0.000000   \n",
       "4         100027007                     0             0.000000   \n",
       "\n",
       "   discount_type2_count  discount_type2_mean  discount_type3_count  \\\n",
       "0                     1             2.340000                     0   \n",
       "1                    36             4.548333                    20   \n",
       "2                     4            16.190000                    15   \n",
       "3                     1             4.000000                     0   \n",
       "4                     5             9.078000                    12   \n",
       "\n",
       "   discount_type3_mean  Hygiene_Quantity  Hygiene_Amount  Other_Quantity  ...  \\\n",
       "0             0.000000               0.0             0.0             0.0  ...   \n",
       "1            11.040500              12.0           197.9            28.0  ...   \n",
       "2             6.892667              19.0           515.3             9.0  ...   \n",
       "3             0.000000               1.0            19.9             0.0  ...   \n",
       "4            14.855833               4.0            59.9             5.0  ...   \n",
       "\n",
       "   PersonalCare_Amount  Beverage_Quantity  Beverage_Amount  isvirtual_ratio  \\\n",
       "0                 0.00                3.0            16.05           0.0000   \n",
       "1               313.04               60.0           216.25           0.5238   \n",
       "2                 0.00               15.0            75.50           0.0000   \n",
       "3                 9.60                6.0            28.05           0.0000   \n",
       "4               349.41                7.0            54.00           0.0000   \n",
       "\n",
       "   gender  dateofbirth  category_number  deserved_amount  reward_amount  \\\n",
       "0       0         2000             9000             17.0            1.0   \n",
       "1       1         1990             9030             18.0            1.0   \n",
       "2       1         1983             9040             23.0            2.0   \n",
       "3       0         1976             9004             66.0            6.0   \n",
       "4       1         1981             9046             79.0            7.0   \n",
       "\n",
       "   response  \n",
       "0         0  \n",
       "1         0  \n",
       "2         0  \n",
       "3         0  \n",
       "4         0  \n",
       "\n",
       "[5 rows x 24 columns]"
      ]
     },
     "execution_count": 4,
     "metadata": {},
     "output_type": "execute_result"
    }
   ],
   "source": [
    "customer_response = pd.read_csv(\"customer_response_final.csv\", sep = \";\")\n",
    "customer_response.head()"
   ]
  },
  {
   "cell_type": "code",
   "execution_count": 6,
   "metadata": {},
   "outputs": [
    {
     "data": {
      "text/plain": [
       "False"
      ]
     },
     "execution_count": 6,
     "metadata": {},
     "output_type": "execute_result"
    }
   ],
   "source": [
    "customer_response.isnull().values.any()"
   ]
  },
  {
   "cell_type": "markdown",
   "metadata": {},
   "source": [
    "### Z-Score Normalization"
   ]
  },
  {
   "cell_type": "code",
   "execution_count": 7,
   "metadata": {},
   "outputs": [],
   "source": [
    "Columns_norm = ['reward_amount', 'deserved_amount', 'Hygiene_Quantity', 'Hygiene_Amount',\n",
    "       'Other_Quantity', 'Other_Amount', 'Food_Quantity', 'Food_Amount',\n",
    "       'PersonalCare_Quantity', 'PersonalCare_Amount', 'Beverage_Quantity',\n",
    "       'Beverage_Amount']"
   ]
  },
  {
   "cell_type": "code",
   "execution_count": 8,
   "metadata": {},
   "outputs": [],
   "source": [
    "cr = customer_response.copy()"
   ]
  },
  {
   "cell_type": "code",
   "execution_count": 9,
   "metadata": {},
   "outputs": [],
   "source": [
    "for i in Columns_norm:\n",
    "    cr[i] = stats.zscore(cr[i])"
   ]
  },
  {
   "cell_type": "markdown",
   "metadata": {},
   "source": [
    "### Split X and y"
   ]
  },
  {
   "cell_type": "code",
   "execution_count": 10,
   "metadata": {},
   "outputs": [],
   "source": [
    "X = cr.drop(columns = ['response','individualnumber','gender','dateofbirth'])\n",
    "y = cr['response']"
   ]
  },
  {
   "cell_type": "markdown",
   "metadata": {},
   "source": [
    "---"
   ]
  },
  {
   "cell_type": "markdown",
   "metadata": {},
   "source": [
    "### XGBClassifier "
   ]
  },
  {
   "cell_type": "code",
   "execution_count": 202,
   "metadata": {},
   "outputs": [
    {
     "name": "stdout",
     "output_type": "stream",
     "text": [
      "Best hyperparameters: {'colsample_bytree': 0.6, 'learning_rate': 0.01, 'max_depth': 10, 'min_child_weight': 8, 'n_estimators': 1200, 'random_state': 42, 'scale_pos_weight': 150, 'subsample': 0.8}\n"
     ]
    }
   ],
   "source": [
    "# create a 5-fold cross validation iterator \n",
    "cv = StratifiedKFold(n_splits=5, shuffle=True, random_state=42)\n",
    "\n",
    "# specify the hyperparameters to tune and their possible values\n",
    "param_grid = {\n",
    "    'max_depth': [10],\n",
    "    'scale_pos_weight': [150],\n",
    "    'learning_rate': [0.01],\n",
    "    'n_estimators': [1200],\n",
    "    'random_state': [42, 58],\n",
    "    'subsample': [0.6, 0.8],\n",
    "    'colsample_bytree': [0.6, 0.8],\n",
    "    'min_child_weight': [6 ,8, 10]\n",
    "}\n",
    "\n",
    "# create the model to tune\n",
    "model = xgb.XGBClassifier()\n",
    "\n",
    "# create the GridSearchCV object\n",
    "grid_search = GridSearchCV(model, param_grid, cv=cv, scoring='f1', n_jobs=-1)\n",
    "\n",
    "# fit the GridSearchCV object to the data\n",
    "grid_search.fit(X, y)\n",
    "\n",
    "# print the best hyperparameters\n",
    "print(\"Best hyperparameters: {}\".format(grid_search.best_params_))"
   ]
  },
  {
   "cell_type": "code",
   "execution_count": 203,
   "metadata": {},
   "outputs": [
    {
     "name": "stdout",
     "output_type": "stream",
     "text": [
      "Fold F1 score: 0.3953\n",
      "Fold F1 score: 0.4301\n",
      "Fold F1 score: 0.4773\n",
      "Fold F1 score: 0.4545\n",
      "Fold F1 score: 0.4898\n"
     ]
    }
   ],
   "source": [
    "#initialize an empty list to store the F1 scores for each fold\n",
    "f1_scores = []\n",
    "\n",
    "for train_index, val_index in cv.split(X, y):\n",
    "    # split the data into train and validation sets for this fold\n",
    "    X_train, X_val = X.iloc[train_index], X.iloc[val_index]\n",
    "    y_train, y_val = y.iloc[train_index], y.iloc[val_index]\n",
    "\n",
    "    # create the XGBoost model and fit it to the training data\n",
    "    model = xgb.XGBClassifier(**grid_search.best_params_)\n",
    "    model.fit(X_train, y_train)\n",
    "\n",
    "    # make predictions on the validation set\n",
    "    y_pred = model.predict(X_val)\n",
    "\n",
    "    # calculate the F1 score for this fold\n",
    "    fold_f1_score = f1_score(y_val, y_pred)\n",
    "    f1_scores.append(fold_f1_score)\n",
    "\n",
    "    print(\"Fold F1 score: {:.4f}\".format(fold_f1_score))"
   ]
  },
  {
   "cell_type": "code",
   "execution_count": 205,
   "metadata": {},
   "outputs": [
    {
     "name": "stdout",
     "output_type": "stream",
     "text": [
      "Mean F1 score: 0.4494\n"
     ]
    }
   ],
   "source": [
    "# calculate the mean F1 score across all folds\n",
    "mean_f1score_XGB = sum(f1_scores) / len(f1_scores)\n",
    "print(\"Mean F1 score: {:.4f}\".format(mean_f1_score))"
   ]
  },
  {
   "cell_type": "markdown",
   "metadata": {},
   "source": [
    "---"
   ]
  },
  {
   "cell_type": "markdown",
   "metadata": {},
   "source": [
    "### Logistic Regression"
   ]
  },
  {
   "cell_type": "code",
   "execution_count": null,
   "metadata": {},
   "outputs": [],
   "source": [
    "# Define the hyperparameters to tune\n",
    "param_grid = {'C': [0.1, 1, 10], 'penalty': ['l1', 'l2']}\n",
    "\n",
    "# Initialize the logistic regression model\n",
    "log_reg = LogisticRegression()\n",
    "\n",
    "# Create a StratifiedKFold object\n",
    "kf = StratifiedKFold(n_splits=5, shuffle=True, random_state=42)\n",
    "\n",
    "# Initialize the grid search object\n",
    "grid_search = GridSearchCV(log_reg, param_grid, cv=kf, scoring='f1')\n",
    "\n",
    "# Fit the grid search object to the data\n",
    "grid_search.fit(X, y)"
   ]
  },
  {
   "cell_type": "code",
   "execution_count": 24,
   "metadata": {},
   "outputs": [
    {
     "name": "stdout",
     "output_type": "stream",
     "text": [
      "Best Hyperparameters: {'C': 0.1, 'penalty': 'l2'}\n"
     ]
    }
   ],
   "source": [
    "# Print the best hyperparameters\n",
    "print('Best Hyperparameters:', grid_search.best_params_)"
   ]
  },
  {
   "cell_type": "code",
   "execution_count": 25,
   "metadata": {},
   "outputs": [
    {
     "name": "stdout",
     "output_type": "stream",
     "text": [
      "Best Accuracy: 0.16319936779743344\n"
     ]
    }
   ],
   "source": [
    "# Print the best accuracy\n",
    "print('Best Accuracy:', grid_search.best_score_)"
   ]
  },
  {
   "cell_type": "code",
   "execution_count": null,
   "metadata": {},
   "outputs": [],
   "source": [
    "# Perform cross-validation using the best parameters\n",
    "log_reg_best = LogisticRegression(**grid_search.best_params_)\n",
    "cv_scores = cross_val_score(log_reg_best, X, y, cv=kf, scoring='f1')\n",
    "\n",
    "# Print the cross-validation scores\n",
    "print('Cross-validation scores:', cv_scores"
   ]
  },
  {
   "cell_type": "markdown",
   "metadata": {},
   "source": [
    "Cross-validation scores: 0.16326531 0.15686275 0.19607843 0.11111111 0.18867925"
   ]
  },
  {
   "cell_type": "code",
   "execution_count": 27,
   "metadata": {},
   "outputs": [
    {
     "name": "stdout",
     "output_type": "stream",
     "text": [
      "Mean cross-validation score: 0.16319936779743344\n"
     ]
    }
   ],
   "source": [
    "print('Mean cross-validation score:', np.mean(cv_scores));"
   ]
  },
  {
   "cell_type": "markdown",
   "metadata": {},
   "source": [
    "---"
   ]
  },
  {
   "cell_type": "markdown",
   "metadata": {},
   "source": [
    "### GradientBoostingClassifier"
   ]
  },
  {
   "cell_type": "code",
   "execution_count": 18,
   "metadata": {},
   "outputs": [
    {
     "data": {
      "text/plain": [
       "GridSearchCV(cv=StratifiedKFold(n_splits=5, random_state=42, shuffle=True),\n",
       "             estimator=GradientBoostingClassifier(),\n",
       "             param_grid={'max_depth': [3, 5, 10],\n",
       "                         'n_estimators': [50, 100, 150]},\n",
       "             scoring='f1_macro')"
      ]
     },
     "execution_count": 18,
     "metadata": {},
     "output_type": "execute_result"
    }
   ],
   "source": [
    "# Create a StratifiedKFold object\n",
    "kf = StratifiedKFold(n_splits=5, shuffle=True, random_state=42)\n",
    "\n",
    "# Define the hyperparameters to tune\n",
    "param_grid = {'n_estimators': [50, 100, 150], 'max_depth': [3, 5, 10]}\n",
    "\n",
    "# Initialize the gradient boosting classifier\n",
    "gbc = GradientBoostingClassifier()\n",
    "\n",
    "# Initialize the grid search object\n",
    "grid_search = GridSearchCV(gbc, param_grid, cv=kf, scoring='f1_macro')\n",
    "\n",
    "# Fit the grid search object to the data\n",
    "grid_search.fit(X, y)"
   ]
  },
  {
   "cell_type": "code",
   "execution_count": 19,
   "metadata": {},
   "outputs": [
    {
     "name": "stdout",
     "output_type": "stream",
     "text": [
      "Best Hyperparameters: {'max_depth': 3, 'n_estimators': 100}\n"
     ]
    }
   ],
   "source": [
    "# Print the best hyperparameters\n",
    "print('Best Hyperparameters:', grid_search.best_params_)"
   ]
  },
  {
   "cell_type": "code",
   "execution_count": 20,
   "metadata": {},
   "outputs": [
    {
     "name": "stdout",
     "output_type": "stream",
     "text": [
      "Best F1 Score: 0.6377671010577799\n"
     ]
    }
   ],
   "source": [
    "# Print the best accuracy\n",
    "print('Best F1 Score:', grid_search.best_score_)"
   ]
  },
  {
   "cell_type": "code",
   "execution_count": 21,
   "metadata": {},
   "outputs": [
    {
     "name": "stdout",
     "output_type": "stream",
     "text": [
      "Cross-validation F1 Scores: [0.64590962 0.61442932 0.63168345 0.60702551 0.68360136]\n"
     ]
    }
   ],
   "source": [
    "# Perform cross-validation using the best parameters\n",
    "gbc_best = GradientBoostingClassifier(**grid_search.best_params_)\n",
    "cv_scores = cross_val_score(gbc_best, X, y, cv=kf, scoring='f1_macro')\n",
    "\n",
    "# Print the cross-validation scores\n",
    "print('Cross-validation F1 Scores:', cv_scores)"
   ]
  },
  {
   "cell_type": "code",
   "execution_count": 22,
   "metadata": {},
   "outputs": [
    {
     "name": "stdout",
     "output_type": "stream",
     "text": [
      "Mean cross-validation F1 score: 0.6365298520132576\n"
     ]
    }
   ],
   "source": [
    "print('Mean cross-validation F1 score:', np.mean(cv_scores))"
   ]
  },
  {
   "cell_type": "code",
   "execution_count": null,
   "metadata": {},
   "outputs": [],
   "source": []
  }
 ],
 "metadata": {
  "kernelspec": {
   "display_name": "Python 3",
   "language": "python",
   "name": "python3"
  },
  "language_info": {
   "codemirror_mode": {
    "name": "ipython",
    "version": 3
   },
   "file_extension": ".py",
   "mimetype": "text/x-python",
   "name": "python",
   "nbconvert_exporter": "python",
   "pygments_lexer": "ipython3",
   "version": "3.8.5"
  }
 },
 "nbformat": 4,
 "nbformat_minor": 4
}
