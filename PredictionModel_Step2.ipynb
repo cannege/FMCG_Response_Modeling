{
 "cells": [
  {
   "cell_type": "markdown",
   "metadata": {},
   "source": [
    "## Import packages"
   ]
  },
  {
   "cell_type": "code",
   "execution_count": 14,
   "metadata": {},
   "outputs": [],
   "source": [
    "import numpy as np\n",
    "import pandas as pd \n",
    "import xgboost as xgb\n",
    "from xgboost import XGBClassifier\n",
    "from sklearn.svm import SVC\n",
    "from sklearn.ensemble import GradientBoostingClassifier\n",
    "from sklearn.linear_model import LogisticRegression\n",
    "from sklearn.metrics import f1_score\n",
    "from sklearn.model_selection import GridSearchCV, StratifiedKFold, cross_val_score\n",
    "import scipy.stats as stats"
   ]
  },
  {
   "cell_type": "markdown",
   "metadata": {},
   "source": [
    "## Import data"
   ]
  },
  {
   "cell_type": "code",
   "execution_count": 5,
   "metadata": {},
   "outputs": [
    {
     "data": {
      "text/html": [
       "<div>\n",
       "<style scoped>\n",
       "    .dataframe tbody tr th:only-of-type {\n",
       "        vertical-align: middle;\n",
       "    }\n",
       "\n",
       "    .dataframe tbody tr th {\n",
       "        vertical-align: top;\n",
       "    }\n",
       "\n",
       "    .dataframe thead th {\n",
       "        text-align: right;\n",
       "    }\n",
       "</style>\n",
       "<table border=\"1\" class=\"dataframe\">\n",
       "  <thead>\n",
       "    <tr style=\"text-align: right;\">\n",
       "      <th></th>\n",
       "      <th>individualnumber</th>\n",
       "      <th>discount_type1_count</th>\n",
       "      <th>discount_type1_mean</th>\n",
       "      <th>discount_type2_count</th>\n",
       "      <th>discount_type2_mean</th>\n",
       "      <th>discount_type3_count</th>\n",
       "      <th>discount_type3_mean</th>\n",
       "      <th>Hygiene_Quantity</th>\n",
       "      <th>Hygiene_Amount</th>\n",
       "      <th>Other_Quantity</th>\n",
       "      <th>...</th>\n",
       "      <th>PersonalCare_Amount</th>\n",
       "      <th>Beverage_Quantity</th>\n",
       "      <th>Beverage_Amount</th>\n",
       "      <th>isvirtual_ratio</th>\n",
       "      <th>gender</th>\n",
       "      <th>dateofbirth</th>\n",
       "      <th>category_number</th>\n",
       "      <th>deserved_amount</th>\n",
       "      <th>reward_amount</th>\n",
       "      <th>response</th>\n",
       "    </tr>\n",
       "  </thead>\n",
       "  <tbody>\n",
       "    <tr>\n",
       "      <th>0</th>\n",
       "      <td>66365473</td>\n",
       "      <td>13</td>\n",
       "      <td>0.576231</td>\n",
       "      <td>9</td>\n",
       "      <td>2.438889</td>\n",
       "      <td>1</td>\n",
       "      <td>34.980000</td>\n",
       "      <td>2.0</td>\n",
       "      <td>24.50</td>\n",
       "      <td>17.0</td>\n",
       "      <td>...</td>\n",
       "      <td>0.00</td>\n",
       "      <td>13.0</td>\n",
       "      <td>129.65</td>\n",
       "      <td>0.0</td>\n",
       "      <td>Female</td>\n",
       "      <td>1990</td>\n",
       "      <td>9020</td>\n",
       "      <td>8.0</td>\n",
       "      <td>1.0</td>\n",
       "      <td>0</td>\n",
       "    </tr>\n",
       "    <tr>\n",
       "      <th>1</th>\n",
       "      <td>82571608</td>\n",
       "      <td>53</td>\n",
       "      <td>1.303816</td>\n",
       "      <td>52</td>\n",
       "      <td>5.461923</td>\n",
       "      <td>28</td>\n",
       "      <td>6.682857</td>\n",
       "      <td>31.0</td>\n",
       "      <td>386.95</td>\n",
       "      <td>22.0</td>\n",
       "      <td>...</td>\n",
       "      <td>117.88</td>\n",
       "      <td>74.0</td>\n",
       "      <td>433.72</td>\n",
       "      <td>0.0</td>\n",
       "      <td>Male</td>\n",
       "      <td>1992</td>\n",
       "      <td>9035</td>\n",
       "      <td>48.0</td>\n",
       "      <td>4.0</td>\n",
       "      <td>0</td>\n",
       "    </tr>\n",
       "    <tr>\n",
       "      <th>2</th>\n",
       "      <td>37719829</td>\n",
       "      <td>9</td>\n",
       "      <td>2.710704</td>\n",
       "      <td>5</td>\n",
       "      <td>1.190000</td>\n",
       "      <td>12</td>\n",
       "      <td>3.169167</td>\n",
       "      <td>15.0</td>\n",
       "      <td>301.41</td>\n",
       "      <td>0.0</td>\n",
       "      <td>...</td>\n",
       "      <td>0.00</td>\n",
       "      <td>6.0</td>\n",
       "      <td>34.40</td>\n",
       "      <td>0.0</td>\n",
       "      <td>Female</td>\n",
       "      <td>1978</td>\n",
       "      <td>9012</td>\n",
       "      <td>28.0</td>\n",
       "      <td>2.0</td>\n",
       "      <td>0</td>\n",
       "    </tr>\n",
       "    <tr>\n",
       "      <th>3</th>\n",
       "      <td>99398913</td>\n",
       "      <td>854</td>\n",
       "      <td>1.255426</td>\n",
       "      <td>99</td>\n",
       "      <td>5.233030</td>\n",
       "      <td>256</td>\n",
       "      <td>4.255898</td>\n",
       "      <td>159.0</td>\n",
       "      <td>2742.40</td>\n",
       "      <td>41.0</td>\n",
       "      <td>...</td>\n",
       "      <td>402.38</td>\n",
       "      <td>508.0</td>\n",
       "      <td>2236.30</td>\n",
       "      <td>0.0</td>\n",
       "      <td>Male</td>\n",
       "      <td>1997</td>\n",
       "      <td>9012</td>\n",
       "      <td>31.0</td>\n",
       "      <td>4.0</td>\n",
       "      <td>0</td>\n",
       "    </tr>\n",
       "    <tr>\n",
       "      <th>4</th>\n",
       "      <td>54766363</td>\n",
       "      <td>14</td>\n",
       "      <td>2.558548</td>\n",
       "      <td>12</td>\n",
       "      <td>5.929167</td>\n",
       "      <td>3</td>\n",
       "      <td>5.096667</td>\n",
       "      <td>18.0</td>\n",
       "      <td>261.65</td>\n",
       "      <td>20.0</td>\n",
       "      <td>...</td>\n",
       "      <td>0.00</td>\n",
       "      <td>16.0</td>\n",
       "      <td>155.71</td>\n",
       "      <td>0.0</td>\n",
       "      <td>Male</td>\n",
       "      <td>1968</td>\n",
       "      <td>9005</td>\n",
       "      <td>32.0</td>\n",
       "      <td>3.0</td>\n",
       "      <td>0</td>\n",
       "    </tr>\n",
       "  </tbody>\n",
       "</table>\n",
       "<p>5 rows × 24 columns</p>\n",
       "</div>"
      ],
      "text/plain": [
       "   individualnumber  discount_type1_count  discount_type1_mean  \\\n",
       "0          66365473                    13             0.576231   \n",
       "1          82571608                    53             1.303816   \n",
       "2          37719829                     9             2.710704   \n",
       "3          99398913                   854             1.255426   \n",
       "4          54766363                    14             2.558548   \n",
       "\n",
       "   discount_type2_count  discount_type2_mean  discount_type3_count  \\\n",
       "0                     9             2.438889                     1   \n",
       "1                    52             5.461923                    28   \n",
       "2                     5             1.190000                    12   \n",
       "3                    99             5.233030                   256   \n",
       "4                    12             5.929167                     3   \n",
       "\n",
       "   discount_type3_mean  Hygiene_Quantity  Hygiene_Amount  Other_Quantity  ...  \\\n",
       "0            34.980000               2.0           24.50            17.0  ...   \n",
       "1             6.682857              31.0          386.95            22.0  ...   \n",
       "2             3.169167              15.0          301.41             0.0  ...   \n",
       "3             4.255898             159.0         2742.40            41.0  ...   \n",
       "4             5.096667              18.0          261.65            20.0  ...   \n",
       "\n",
       "   PersonalCare_Amount  Beverage_Quantity  Beverage_Amount  isvirtual_ratio  \\\n",
       "0                 0.00               13.0           129.65              0.0   \n",
       "1               117.88               74.0           433.72              0.0   \n",
       "2                 0.00                6.0            34.40              0.0   \n",
       "3               402.38              508.0          2236.30              0.0   \n",
       "4                 0.00               16.0           155.71              0.0   \n",
       "\n",
       "   gender  dateofbirth  category_number  deserved_amount reward_amount  \\\n",
       "0  Female         1990             9020              8.0           1.0   \n",
       "1    Male         1992             9035             48.0           4.0   \n",
       "2  Female         1978             9012             28.0           2.0   \n",
       "3    Male         1997             9012             31.0           4.0   \n",
       "4    Male         1968             9005             32.0           3.0   \n",
       "\n",
       "   response  \n",
       "0         0  \n",
       "1         0  \n",
       "2         0  \n",
       "3         0  \n",
       "4         0  \n",
       "\n",
       "[5 rows x 24 columns]"
      ]
     },
     "execution_count": 5,
     "metadata": {},
     "output_type": "execute_result"
    }
   ],
   "source": [
    "customer_response = pd.read_csv(\"customer_response_final.csv\", sep = \";\")\n",
    "customer_response.head()"
   ]
  },
  {
   "cell_type": "code",
   "execution_count": 6,
   "metadata": {},
   "outputs": [
    {
     "data": {
      "text/plain": [
       "False"
      ]
     },
     "execution_count": 6,
     "metadata": {},
     "output_type": "execute_result"
    }
   ],
   "source": [
    "customer_response.isnull().values.any()"
   ]
  },
  {
   "cell_type": "markdown",
   "metadata": {},
   "source": [
    "### Z-Score Normalization"
   ]
  },
  {
   "cell_type": "code",
   "execution_count": 7,
   "metadata": {},
   "outputs": [],
   "source": [
    "Columns_norm = ['reward_amount', 'deserved_amount', 'Hygiene_Quantity', 'Hygiene_Amount',\n",
    "       'Other_Quantity', 'Other_Amount', 'Food_Quantity', 'Food_Amount',\n",
    "       'PersonalCare_Quantity', 'PersonalCare_Amount', 'Beverage_Quantity',\n",
    "       'Beverage_Amount']"
   ]
  },
  {
   "cell_type": "code",
   "execution_count": 8,
   "metadata": {},
   "outputs": [],
   "source": [
    "cr = customer_response.copy()"
   ]
  },
  {
   "cell_type": "code",
   "execution_count": 9,
   "metadata": {},
   "outputs": [],
   "source": [
    "for i in Columns_norm:\n",
    "    cr[i] = stats.zscore(cr[i])"
   ]
  },
  {
   "cell_type": "markdown",
   "metadata": {},
   "source": [
    "### Split X and y"
   ]
  },
  {
   "cell_type": "code",
   "execution_count": 10,
   "metadata": {},
   "outputs": [],
   "source": [
    "X = cr.drop(columns = ['response','individualnumber','gender','dateofbirth'])\n",
    "y = cr['response']"
   ]
  },
  {
   "cell_type": "markdown",
   "metadata": {},
   "source": [
    "---"
   ]
  },
  {
   "cell_type": "markdown",
   "metadata": {},
   "source": [
    "### XGBClassifier "
   ]
  },
  {
   "cell_type": "code",
   "execution_count": 202,
   "metadata": {},
   "outputs": [
    {
     "name": "stdout",
     "output_type": "stream",
     "text": [
      "Best hyperparameters: {'colsample_bytree': 0.6, 'learning_rate': 0.01, 'max_depth': 10, 'min_child_weight': 8, 'n_estimators': 1200, 'random_state': 42, 'scale_pos_weight': 150, 'subsample': 0.8}\n"
     ]
    }
   ],
   "source": [
    "# create a 5-fold cross validation iterator \n",
    "cv = StratifiedKFold(n_splits=5, shuffle=True, random_state=42)\n",
    "\n",
    "# specify the hyperparameters to tune and their possible values\n",
    "param_grid = {\n",
    "    'max_depth': [10],\n",
    "    'scale_pos_weight': [150],\n",
    "    'learning_rate': [0.01],\n",
    "    'n_estimators': [1200],\n",
    "    'random_state': [42, 58],\n",
    "    'subsample': [0.6, 0.8],\n",
    "    'colsample_bytree': [0.6, 0.8],\n",
    "    'min_child_weight': [6 ,8, 10]\n",
    "}\n",
    "\n",
    "# create the model to tune\n",
    "model = xgb.XGBClassifier()\n",
    "\n",
    "# create the GridSearchCV object\n",
    "grid_search = GridSearchCV(model, param_grid, cv=cv, scoring='f1', n_jobs=-1)\n",
    "\n",
    "# fit the GridSearchCV object to the data\n",
    "grid_search.fit(X, y)\n",
    "\n",
    "# print the best hyperparameters\n",
    "print(\"Best hyperparameters: {}\".format(grid_search.best_params_))"
   ]
  },
  {
   "cell_type": "code",
   "execution_count": 203,
   "metadata": {},
   "outputs": [
    {
     "name": "stdout",
     "output_type": "stream",
     "text": [
      "Fold F1 score: 0.3953\n",
      "Fold F1 score: 0.4301\n",
      "Fold F1 score: 0.4773\n",
      "Fold F1 score: 0.4545\n",
      "Fold F1 score: 0.4898\n"
     ]
    }
   ],
   "source": [
    "#initialize an empty list to store the F1 scores for each fold\n",
    "f1_scores = []\n",
    "\n",
    "for train_index, val_index in cv.split(X, y):\n",
    "    # split the data into train and validation sets for this fold\n",
    "    X_train, X_val = X.iloc[train_index], X.iloc[val_index]\n",
    "    y_train, y_val = y.iloc[train_index], y.iloc[val_index]\n",
    "\n",
    "    # create the XGBoost model and fit it to the training data\n",
    "    model = xgb.XGBClassifier(**grid_search.best_params_)\n",
    "    model.fit(X_train, y_train)\n",
    "\n",
    "    # make predictions on the validation set\n",
    "    y_pred = model.predict(X_val)\n",
    "\n",
    "    # calculate the F1 score for this fold\n",
    "    fold_f1_score = f1_score(y_val, y_pred)\n",
    "    f1_scores.append(fold_f1_score)\n",
    "\n",
    "    print(\"Fold F1 score: {:.4f}\".format(fold_f1_score))"
   ]
  },
  {
   "cell_type": "code",
   "execution_count": 205,
   "metadata": {},
   "outputs": [
    {
     "name": "stdout",
     "output_type": "stream",
     "text": [
      "Mean F1 score: 0.4494\n"
     ]
    }
   ],
   "source": [
    "# calculate the mean F1 score across all folds\n",
    "mean_f1score_XGB = sum(f1_scores) / len(f1_scores)\n",
    "print(\"Mean F1 score: {:.4f}\".format(mean_f1_score))"
   ]
  },
  {
   "cell_type": "markdown",
   "metadata": {},
   "source": [
    "---"
   ]
  },
  {
   "cell_type": "markdown",
   "metadata": {},
   "source": [
    "### Logistic Regression"
   ]
  },
  {
   "cell_type": "code",
   "execution_count": null,
   "metadata": {},
   "outputs": [],
   "source": [
    "# Define the hyperparameters to tune\n",
    "param_grid = {'C': [0.1, 1, 10], 'penalty': ['l1', 'l2']}\n",
    "\n",
    "# Initialize the logistic regression model\n",
    "log_reg = LogisticRegression()\n",
    "\n",
    "# Create a StratifiedKFold object\n",
    "kf = StratifiedKFold(n_splits=5, shuffle=True, random_state=42)\n",
    "\n",
    "# Initialize the grid search object\n",
    "grid_search = GridSearchCV(log_reg, param_grid, cv=kf, scoring='f1')\n",
    "\n",
    "# Fit the grid search object to the data\n",
    "grid_search.fit(X, y)"
   ]
  },
  {
   "cell_type": "code",
   "execution_count": 24,
   "metadata": {},
   "outputs": [
    {
     "name": "stdout",
     "output_type": "stream",
     "text": [
      "Best Hyperparameters: {'C': 0.1, 'penalty': 'l2'}\n"
     ]
    }
   ],
   "source": [
    "# Print the best hyperparameters\n",
    "print('Best Hyperparameters:', grid_search.best_params_)"
   ]
  },
  {
   "cell_type": "code",
   "execution_count": 25,
   "metadata": {},
   "outputs": [
    {
     "name": "stdout",
     "output_type": "stream",
     "text": [
      "Best Accuracy: 0.16319936779743344\n"
     ]
    }
   ],
   "source": [
    "# Print the best accuracy\n",
    "print('Best Accuracy:', grid_search.best_score_)"
   ]
  },
  {
   "cell_type": "code",
   "execution_count": null,
   "metadata": {},
   "outputs": [],
   "source": [
    "# Perform cross-validation using the best parameters\n",
    "log_reg_best = LogisticRegression(**grid_search.best_params_)\n",
    "cv_scores = cross_val_score(log_reg_best, X, y, cv=kf, scoring='f1')\n",
    "\n",
    "# Print the cross-validation scores\n",
    "print('Cross-validation scores:', cv_scores"
   ]
  },
  {
   "cell_type": "markdown",
   "metadata": {},
   "source": [
    "Cross-validation scores: 0.16326531 0.15686275 0.19607843 0.11111111 0.18867925"
   ]
  },
  {
   "cell_type": "code",
   "execution_count": 27,
   "metadata": {},
   "outputs": [
    {
     "name": "stdout",
     "output_type": "stream",
     "text": [
      "Mean cross-validation score: 0.16319936779743344\n"
     ]
    }
   ],
   "source": [
    "print('Mean cross-validation score:', np.mean(cv_scores));"
   ]
  },
  {
   "cell_type": "markdown",
   "metadata": {},
   "source": [
    "---"
   ]
  },
  {
   "cell_type": "markdown",
   "metadata": {},
   "source": [
    "### GradientBoostingClassifier"
   ]
  },
  {
   "cell_type": "code",
   "execution_count": 18,
   "metadata": {},
   "outputs": [
    {
     "data": {
      "text/plain": [
       "GridSearchCV(cv=StratifiedKFold(n_splits=5, random_state=42, shuffle=True),\n",
       "             estimator=GradientBoostingClassifier(),\n",
       "             param_grid={'max_depth': [3, 5, 10],\n",
       "                         'n_estimators': [50, 100, 150]},\n",
       "             scoring='f1_macro')"
      ]
     },
     "execution_count": 18,
     "metadata": {},
     "output_type": "execute_result"
    }
   ],
   "source": [
    "# Create a StratifiedKFold object\n",
    "kf = StratifiedKFold(n_splits=5, shuffle=True, random_state=42)\n",
    "\n",
    "# Define the hyperparameters to tune\n",
    "param_grid = {'n_estimators': [50, 100, 150], 'max_depth': [3, 5, 10]}\n",
    "\n",
    "# Initialize the gradient boosting classifier\n",
    "gbc = GradientBoostingClassifier()\n",
    "\n",
    "# Initialize the grid search object\n",
    "grid_search = GridSearchCV(gbc, param_grid, cv=kf, scoring='f1_macro')\n",
    "\n",
    "# Fit the grid search object to the data\n",
    "grid_search.fit(X, y)"
   ]
  },
  {
   "cell_type": "code",
   "execution_count": 19,
   "metadata": {},
   "outputs": [
    {
     "name": "stdout",
     "output_type": "stream",
     "text": [
      "Best Hyperparameters: {'max_depth': 3, 'n_estimators': 100}\n"
     ]
    }
   ],
   "source": [
    "# Print the best hyperparameters\n",
    "print('Best Hyperparameters:', grid_search.best_params_)"
   ]
  },
  {
   "cell_type": "code",
   "execution_count": 20,
   "metadata": {},
   "outputs": [
    {
     "name": "stdout",
     "output_type": "stream",
     "text": [
      "Best F1 Score: 0.6377671010577799\n"
     ]
    }
   ],
   "source": [
    "# Print the best accuracy\n",
    "print('Best F1 Score:', grid_search.best_score_)"
   ]
  },
  {
   "cell_type": "code",
   "execution_count": 21,
   "metadata": {},
   "outputs": [
    {
     "name": "stdout",
     "output_type": "stream",
     "text": [
      "Cross-validation F1 Scores: [0.64590962 0.61442932 0.63168345 0.60702551 0.68360136]\n"
     ]
    }
   ],
   "source": [
    "# Perform cross-validation using the best parameters\n",
    "gbc_best = GradientBoostingClassifier(**grid_search.best_params_)\n",
    "cv_scores = cross_val_score(gbc_best, X, y, cv=kf, scoring='f1_macro')\n",
    "\n",
    "# Print the cross-validation scores\n",
    "print('Cross-validation F1 Scores:', cv_scores)"
   ]
  },
  {
   "cell_type": "code",
   "execution_count": 22,
   "metadata": {},
   "outputs": [
    {
     "name": "stdout",
     "output_type": "stream",
     "text": [
      "Mean cross-validation F1 score: 0.6365298520132576\n"
     ]
    }
   ],
   "source": [
    "print('Mean cross-validation F1 score:', np.mean(cv_scores))"
   ]
  },
  {
   "cell_type": "code",
   "execution_count": null,
   "metadata": {},
   "outputs": [],
   "source": []
  }
 ],
 "metadata": {
  "kernelspec": {
   "display_name": "Python 3",
   "language": "python",
   "name": "python3"
  },
  "language_info": {
   "codemirror_mode": {
    "name": "ipython",
    "version": 3
   },
   "file_extension": ".py",
   "mimetype": "text/x-python",
   "name": "python",
   "nbconvert_exporter": "python",
   "pygments_lexer": "ipython3",
   "version": "3.8.5"
  }
 },
 "nbformat": 4,
 "nbformat_minor": 4
}
